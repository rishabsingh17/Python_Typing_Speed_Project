{
 "cells": [
  {
   "cell_type": "code",
   "execution_count": 3,
   "id": "f85a0915",
   "metadata": {},
   "outputs": [],
   "source": [
    "from time import *\n",
    "import random as r"
   ]
  },
  {
   "cell_type": "code",
   "execution_count": 23,
   "id": "c745cdd0",
   "metadata": {},
   "outputs": [
    {
     "name": "stdout",
     "output_type": "stream",
     "text": [
      "******WELCOME TO THE TYPING SPEED TEST******\n",
      "\n",
      "Today is sunday and Today I tried to take up the SQL course certificate,but unfortunate not able to do it\n",
      "\n",
      "Enter:  Today is sunday and Today I tried to take up the SQL course certificate,but unfortunate not able to do it\n",
      "Speed : 11 w/sec\n",
      "Error : 0\n"
     ]
    }
   ],
   "source": [
    "def mistake(partest, usertest):\n",
    "    error = 0\n",
    "    for i in range(len(partest)):\n",
    "        try:\n",
    "            if partest[i]!=usertest[i]:\n",
    "                error = error + 1 \n",
    "        except:\n",
    "            error = error +1\n",
    "    return error\n",
    "\n",
    "def speedtime(time_s, time_e, userinput):\n",
    "    time_delay = time_e - time_s\n",
    "    time_R = round(time_delay , 2)\n",
    "    speed = len(userinput)/time_R\n",
    "    return round(speed)\n",
    "    \n",
    "test =[\"You are the stud and you are the best\" , \"Today is sunday and Today I tried to take up the SQL course certificate,but unfortunate not able to do it\"\n",
    "      , \"I will crack Data analytics jobs anyhow in upcoming months\"]\n",
    "test1 = r.choice(test)\n",
    "print(\"******WELCOME TO THE TYPING SPEED TEST******\")\n",
    "print()\n",
    "print(test1)\n",
    "print()\n",
    "time_1= time()\n",
    "testinput = input(\"Enter:  \")\n",
    "time_2 = time()\n",
    "print(\"Speed :\" , speedtime(time_1,time_2, testinput), \"w/sec\")\n",
    "print(\"Error :\" , mistake(test1,testinput))\n",
    "\n"
   ]
  },
  {
   "cell_type": "code",
   "execution_count": null,
   "id": "4b251e15",
   "metadata": {},
   "outputs": [],
   "source": []
  },
  {
   "cell_type": "code",
   "execution_count": null,
   "id": "c06f8682",
   "metadata": {},
   "outputs": [],
   "source": []
  }
 ],
 "metadata": {
  "kernelspec": {
   "display_name": "Python 3 (ipykernel)",
   "language": "python",
   "name": "python3"
  },
  "language_info": {
   "codemirror_mode": {
    "name": "ipython",
    "version": 3
   },
   "file_extension": ".py",
   "mimetype": "text/x-python",
   "name": "python",
   "nbconvert_exporter": "python",
   "pygments_lexer": "ipython3",
   "version": "3.9.12"
  }
 },
 "nbformat": 4,
 "nbformat_minor": 5
}
